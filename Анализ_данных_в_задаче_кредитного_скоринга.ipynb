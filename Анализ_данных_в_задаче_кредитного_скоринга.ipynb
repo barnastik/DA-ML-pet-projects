{
  "cells": [
    {
      "cell_type": "markdown",
      "metadata": {
        "id": "Fxc5k_uLaX-C"
      },
      "source": [
        "# Анализ данных в задаче кредитного скоринга"
      ]
    },
    {
      "cell_type": "markdown",
      "metadata": {
        "id": "QwAfhzP_aX-F"
      },
      "source": [
        "Модель, с помощью которой прогнозируется вернет заемщик кредит или нет и соответственно стоит выдавать кредит или стоит отказать, должна быть интерпретируемой (это прописано в соответсвующем законе). Для начала исследуем все имеющиеся признаки в данных."
      ]
    },
    {
      "cell_type": "markdown",
      "metadata": {
        "id": "NxMMdOKsaX-F"
      },
      "source": [
        "### Описание данных"
      ]
    },
    {
      "cell_type": "markdown",
      "metadata": {
        "id": "GIDEmNGhaX-G"
      },
      "source": [
        "Дано: кредитные истории клиентов одного из банков.   \n",
        "Поля в предоставляемых данных имеют следующий смысл:\n",
        "- LIMIT_BAL: размер кредитного лимита (в том числе и на семью клиента)   \n",
        "- SEX: пол клиента (1 = мужской, 2 = женский )   \n",
        "- EDUCATION: образование (0 = доктор, 1 = магистр; 2 = бакалавр; 3 = выпускник школы; 4 = начальное образование; 5= прочее; 6 = нет данных ).   \n",
        "- MARRIAGE: (0 = отказываюсь отвечать; 1 = замужем/женат; 2 = холост; 3 = нет данных).    \n",
        "- AGE: возраст в годах   \n",
        "- PAY_0 - PAY_6 : История прошлых платежей по кредиту. PAY_6 - платеж в апреле, ... Pay_0 - платеж в сентябре. Платеж = (0 = исправный платеж, 1=задержка в один месяц, 2=задержка в 2 месяца ...)    \n",
        "- BILL_AMT1 - BILL_AMT6: задолженность, BILL_AMT6 - на апрель, BILL_AMT1 - на сентябрь    \n",
        "- PAY_AMT1 - PAY_AMT6: сумма уплаченная в PAY_AMT6 - апреле, ..., PAY_AMT1 - сентябре    \n",
        "- default - индикатор невозврата денежных средств    "
      ]
    },
    {
      "cell_type": "code",
      "execution_count": null,
      "metadata": {
        "collapsed": true,
        "id": "Zqe9_EccaX-H"
      },
      "outputs": [],
      "source": [
        "import numpy as np\n",
        "import pandas as pd\n",
        "import seaborn as sns\n",
        "import scipy\n",
        "from scipy import stats"
      ]
    },
    {
      "cell_type": "code",
      "execution_count": null,
      "metadata": {
        "id": "rNElXIZvaX-J",
        "outputId": "36564fdc-092a-4c36-dc99-22642e2afab6"
      },
      "outputs": [
        {
          "name": "stdout",
          "output_type": "stream",
          "text": [
            "Populating the interactive namespace from numpy and matplotlib\n"
          ]
        }
      ],
      "source": [
        "%pylab inline"
      ]
    },
    {
      "cell_type": "code",
      "execution_count": null,
      "metadata": {
        "id": "qISr6TdgaX-K",
        "outputId": "514c6e4b-a84f-4d7e-ed84-e2d58c92d8d5"
      },
      "outputs": [
        {
          "data": {
            "text/html": [
              "<div>\n",
              "<table border=\"1\" class=\"dataframe\">\n",
              "  <thead>\n",
              "    <tr style=\"text-align: right;\">\n",
              "      <th></th>\n",
              "      <th>ID</th>\n",
              "      <th>LIMIT_BAL</th>\n",
              "      <th>SEX</th>\n",
              "      <th>EDUCATION</th>\n",
              "      <th>MARRIAGE</th>\n",
              "      <th>AGE</th>\n",
              "      <th>PAY_0</th>\n",
              "      <th>PAY_2</th>\n",
              "      <th>PAY_3</th>\n",
              "      <th>PAY_4</th>\n",
              "      <th>...</th>\n",
              "      <th>BILL_AMT4</th>\n",
              "      <th>BILL_AMT5</th>\n",
              "      <th>BILL_AMT6</th>\n",
              "      <th>PAY_AMT1</th>\n",
              "      <th>PAY_AMT2</th>\n",
              "      <th>PAY_AMT3</th>\n",
              "      <th>PAY_AMT4</th>\n",
              "      <th>PAY_AMT5</th>\n",
              "      <th>PAY_AMT6</th>\n",
              "      <th>default</th>\n",
              "    </tr>\n",
              "  </thead>\n",
              "  <tbody>\n",
              "    <tr>\n",
              "      <th>0</th>\n",
              "      <td>1</td>\n",
              "      <td>20000</td>\n",
              "      <td>2</td>\n",
              "      <td>2</td>\n",
              "      <td>1</td>\n",
              "      <td>24</td>\n",
              "      <td>2</td>\n",
              "      <td>2</td>\n",
              "      <td>0</td>\n",
              "      <td>0</td>\n",
              "      <td>...</td>\n",
              "      <td>0</td>\n",
              "      <td>0</td>\n",
              "      <td>0</td>\n",
              "      <td>0</td>\n",
              "      <td>689</td>\n",
              "      <td>0</td>\n",
              "      <td>0</td>\n",
              "      <td>0</td>\n",
              "      <td>0</td>\n",
              "      <td>1</td>\n",
              "    </tr>\n",
              "    <tr>\n",
              "      <th>1</th>\n",
              "      <td>2</td>\n",
              "      <td>120000</td>\n",
              "      <td>2</td>\n",
              "      <td>2</td>\n",
              "      <td>2</td>\n",
              "      <td>26</td>\n",
              "      <td>0</td>\n",
              "      <td>2</td>\n",
              "      <td>0</td>\n",
              "      <td>0</td>\n",
              "      <td>...</td>\n",
              "      <td>3272</td>\n",
              "      <td>3455</td>\n",
              "      <td>3261</td>\n",
              "      <td>0</td>\n",
              "      <td>1000</td>\n",
              "      <td>1000</td>\n",
              "      <td>1000</td>\n",
              "      <td>0</td>\n",
              "      <td>2000</td>\n",
              "      <td>1</td>\n",
              "    </tr>\n",
              "    <tr>\n",
              "      <th>2</th>\n",
              "      <td>3</td>\n",
              "      <td>90000</td>\n",
              "      <td>2</td>\n",
              "      <td>2</td>\n",
              "      <td>2</td>\n",
              "      <td>34</td>\n",
              "      <td>0</td>\n",
              "      <td>0</td>\n",
              "      <td>0</td>\n",
              "      <td>0</td>\n",
              "      <td>...</td>\n",
              "      <td>14331</td>\n",
              "      <td>14948</td>\n",
              "      <td>15549</td>\n",
              "      <td>1518</td>\n",
              "      <td>1500</td>\n",
              "      <td>1000</td>\n",
              "      <td>1000</td>\n",
              "      <td>1000</td>\n",
              "      <td>5000</td>\n",
              "      <td>0</td>\n",
              "    </tr>\n",
              "    <tr>\n",
              "      <th>3</th>\n",
              "      <td>4</td>\n",
              "      <td>50000</td>\n",
              "      <td>2</td>\n",
              "      <td>2</td>\n",
              "      <td>1</td>\n",
              "      <td>37</td>\n",
              "      <td>0</td>\n",
              "      <td>0</td>\n",
              "      <td>0</td>\n",
              "      <td>0</td>\n",
              "      <td>...</td>\n",
              "      <td>28314</td>\n",
              "      <td>28959</td>\n",
              "      <td>29547</td>\n",
              "      <td>2000</td>\n",
              "      <td>2019</td>\n",
              "      <td>1200</td>\n",
              "      <td>1100</td>\n",
              "      <td>1069</td>\n",
              "      <td>1000</td>\n",
              "      <td>0</td>\n",
              "    </tr>\n",
              "    <tr>\n",
              "      <th>4</th>\n",
              "      <td>5</td>\n",
              "      <td>50000</td>\n",
              "      <td>1</td>\n",
              "      <td>2</td>\n",
              "      <td>1</td>\n",
              "      <td>57</td>\n",
              "      <td>0</td>\n",
              "      <td>0</td>\n",
              "      <td>0</td>\n",
              "      <td>0</td>\n",
              "      <td>...</td>\n",
              "      <td>20940</td>\n",
              "      <td>19146</td>\n",
              "      <td>19131</td>\n",
              "      <td>2000</td>\n",
              "      <td>36681</td>\n",
              "      <td>10000</td>\n",
              "      <td>9000</td>\n",
              "      <td>689</td>\n",
              "      <td>679</td>\n",
              "      <td>0</td>\n",
              "    </tr>\n",
              "  </tbody>\n",
              "</table>\n",
              "<p>5 rows × 25 columns</p>\n",
              "</div>"
            ],
            "text/plain": [
              "   ID  LIMIT_BAL  SEX  EDUCATION  MARRIAGE  AGE  PAY_0  PAY_2  PAY_3  PAY_4  \\\n",
              "0   1      20000    2          2         1   24      2      2      0      0   \n",
              "1   2     120000    2          2         2   26      0      2      0      0   \n",
              "2   3      90000    2          2         2   34      0      0      0      0   \n",
              "3   4      50000    2          2         1   37      0      0      0      0   \n",
              "4   5      50000    1          2         1   57      0      0      0      0   \n",
              "\n",
              "    ...     BILL_AMT4  BILL_AMT5  BILL_AMT6  PAY_AMT1  PAY_AMT2  PAY_AMT3  \\\n",
              "0   ...             0          0          0         0       689         0   \n",
              "1   ...          3272       3455       3261         0      1000      1000   \n",
              "2   ...         14331      14948      15549      1518      1500      1000   \n",
              "3   ...         28314      28959      29547      2000      2019      1200   \n",
              "4   ...         20940      19146      19131      2000     36681     10000   \n",
              "\n",
              "   PAY_AMT4  PAY_AMT5  PAY_AMT6  default  \n",
              "0         0         0         0        1  \n",
              "1      1000         0      2000        1  \n",
              "2      1000      1000      5000        0  \n",
              "3      1100      1069      1000        0  \n",
              "4      9000       689       679        0  \n",
              "\n",
              "[5 rows x 25 columns]"
            ]
          },
          "execution_count": 3,
          "metadata": {},
          "output_type": "execute_result"
        }
      ],
      "source": [
        "data = pd.read_csv(\"credit_card_default_analysis.csv\")\n",
        "data.head()"
      ]
    },
    {
      "cell_type": "markdown",
      "metadata": {
        "id": "xDEfnH4jaX-L"
      },
      "source": [
        "## Размер кредитного лимита (LIMIT_BAL)"
      ]
    },
    {
      "cell_type": "markdown",
      "metadata": {
        "id": "xXQLzL7haX-L"
      },
      "source": [
        "Рассмотрим две группы кредитов: те, в которых нет просрочек по возврату и те, в которых есть просрочки по возврату."
      ]
    },
    {
      "cell_type": "code",
      "execution_count": null,
      "metadata": {
        "collapsed": true,
        "id": "GhZBYCupaX-M"
      },
      "outputs": [],
      "source": [
        "repayment = data[data.default == 0]\n",
        "loan = data[data.default == 1]"
      ]
    },
    {
      "cell_type": "code",
      "execution_count": null,
      "metadata": {
        "id": "s6sAzcNNaX-M",
        "outputId": "1b8765c6-63a5-423f-ddbb-7830e4545ed0"
      },
      "outputs": [
        {
          "data": {
            "image/png": "[encoded data removed]",
            "text/plain": [
              "<matplotlib.figure.Figure at 0x11a4fdd8>"
            ]
          },
          "metadata": {},
          "output_type": "display_data"
        }
      ],
      "source": [
        "pylab.figure(figsize(16, 4))\n",
        "pylab.subplot(1,2,1)\n",
        "repayment.LIMIT_BAL.hist(color='lightskyblue', bins = 50, range = (0, 1000000))\n",
        "pylab.xlabel(u'Размер кредитного лимита (в том числе и на семью клиента), руб')\n",
        "pylab.ylabel(u'Всего выдано кредитов, шт.')\n",
        "plt.title(u'Кредиты, в которых нет просрочек по возврату')\n",
        "pylab.legend()\n",
        "\n",
        "pylab.subplot(1,2,2)\n",
        "loan.LIMIT_BAL.hist(color='lightcoral', bins = 50, range = (0, 1000000))\n",
        "pylab.xlabel(u'Размер кредитного лимита (в том числе и на семью клиента), руб')\n",
        "pylab.ylabel(u'Всего выдано кредитов, шт.')\n",
        "plt.title(u'Кредиты, в которых есть просрочки по возврату')\n",
        "pylab.legend()"
      ]
    },
    {
      "cell_type": "markdown",
      "metadata": {
        "id": "5nfqw-YFaX-M"
      },
      "source": [
        "#### Равны ли медианы значений кредитного лимита в обоих группах?"
      ]
    },
    {
      "cell_type": "markdown",
      "metadata": {
        "id": "3zdiUq7maX-N"
      },
      "source": [
        "Построим 95% доверительный интервал для разности медиан и проверим, входит ли туда 0. Для этого используем метода бутстреп, так как он не делает предположений о распределении."
      ]
    },
    {
      "cell_type": "code",
      "execution_count": null,
      "metadata": {
        "collapsed": true,
        "id": "e4zmygh2aX-N"
      },
      "outputs": [],
      "source": [
        "def stat_intervals(stat, alpha=0.05):\n",
        "    boundaries = np.percentile(stat, [100 * alpha / 2., 100 * (1 - alpha / 2.)])\n",
        "    return boundaries\n",
        "\n",
        "def get_bootstrap_samples(data, n_samples):\n",
        "    indices = np.random.randint(0, len(data), (n_samples, len(data)))\n",
        "    samples = data[indices]\n",
        "    return samples"
      ]
    },
    {
      "cell_type": "code",
      "execution_count": null,
      "metadata": {
        "collapsed": true,
        "id": "0VkAMB8qaX-N"
      },
      "outputs": [],
      "source": [
        "np.random.seed(0)\n",
        "\n",
        "repayments_median = map(np.median, get_bootstrap_samples(repayment.LIMIT_BAL.values, 1000))\n",
        "loans_median  = map(np.median, get_bootstrap_samples(loan.LIMIT_BAL.values, 1000))"
      ]
    },
    {
      "cell_type": "code",
      "execution_count": null,
      "metadata": {
        "collapsed": true,
        "id": "INxBGH4saX-N"
      },
      "outputs": [],
      "source": [
        "delta_median = map(lambda x: x[1] - x[0], zip(loans_median, repayments_median))"
      ]
    },
    {
      "cell_type": "code",
      "execution_count": null,
      "metadata": {
        "id": "6mximZgQaX-N",
        "outputId": "889dee02-9725-4b27-f7ac-28684d521cb4"
      },
      "outputs": [
        {
          "name": "stdout",
          "output_type": "stream",
          "text": [
            "95% доверительный интервал для медианы кредитов, в которых нет просрочек: [ 150000.  150000.]\n",
            "95% доверительный интервал для медианы кредитов, в которых есть просрочки по возврату: [ 80000.  90000.]\n",
            "95% доверительный интервал для разности медиан: [ 60000.  70000.]\n"
          ]
        }
      ],
      "source": [
        "print \"95% доверительный интервал для медианы кредитов, в которых нет просрочек:\",  stat_intervals(repayments_median, 0.05)\n",
        "print \"95% доверительный интервал для медианы кредитов, в которых есть просрочки по возврату:\",  stat_intervals(loans_median, 0.05)\n",
        "print \"95% доверительный интервал для разности медиан:\",  stat_intervals(delta_median, 0.05)"
      ]
    },
    {
      "cell_type": "markdown",
      "metadata": {
        "id": "hvEv-VzIaX-O"
      },
      "source": [
        "Вывод: интервалы для медиан лимитов отличаются (разница не содержат 0). Поэтому гипотезу о равенстве медиан отвергаем."
      ]
    },
    {
      "cell_type": "markdown",
      "metadata": {
        "id": "AKzBQ-ecaX-O"
      },
      "source": [
        "#### Равны ли распределения в обоих группах?"
      ]
    },
    {
      "cell_type": "markdown",
      "metadata": {
        "id": "p3p6OUNBaX-O"
      },
      "source": [
        "Для проверки воспользуемся перестановочным критерием для независимых выборок."
      ]
    },
    {
      "cell_type": "markdown",
      "metadata": {
        "id": "ijc0pLOIaX-O"
      },
      "source": [
        "$H_0\\colon F_{X_1}(x) = F_{X_2}(x)$\n",
        "\n",
        "$H_1\\colon F_{X_1}(x) = F_{X_2}(x + \\Delta), \\Delta\\neq 0$"
      ]
    },
    {
      "cell_type": "code",
      "execution_count": null,
      "metadata": {
        "collapsed": true,
        "id": "Q6iXFpAzaX-O"
      },
      "outputs": [],
      "source": [
        "def permutation_t_stat_ind(sample1, sample2):\n",
        "    return np.mean(sample1) - np.mean(sample2)\n",
        "\n",
        "def get_random_combinations(n1, n2, max_combinations):\n",
        "    index = range(n1 + n2)\n",
        "    indices = set([tuple(index)])\n",
        "    for i in range(max_combinations - 1):\n",
        "        np.random.shuffle(index)\n",
        "        indices.add(tuple(index))\n",
        "    return [(index[:n1], index[n1:]) for index in indices]\n",
        "\n",
        "def permutation_zero_dist_ind(sample1, sample2, max_combinations = None):\n",
        "    joined_sample = np.hstack((sample1, sample2))\n",
        "    n1 = len(sample1)\n",
        "    n = len(joined_sample)\n",
        "\n",
        "    if max_combinations:\n",
        "        indices = get_random_combinations(n1, len(sample2), max_combinations)\n",
        "    else:\n",
        "        indices = [(list(index), filter(lambda i: i not in index, range(n))) \\\n",
        "                    for index in itertools.combinations(range(n), n1)]\n",
        "\n",
        "    distr = [joined_sample[list(i[0])].mean() - joined_sample[list(i[1])].mean() \\\n",
        "             for i in indices]\n",
        "    return distr\n",
        "\n",
        "def permutation_test(sample, mean, max_permutations = None, alternative = 'two-sided'):\n",
        "    if alternative not in ('two-sided', 'less', 'greater'):\n",
        "        raise ValueError(\"alternative not recognized\\n\"\n",
        "                         \"should be 'two-sided', 'less' or 'greater'\")\n",
        "\n",
        "    t_stat = permutation_t_stat_ind(sample, mean)\n",
        "\n",
        "    zero_distr = permutation_zero_dist_ind(sample, mean, max_permutations)\n",
        "\n",
        "    if alternative == 'two-sided':\n",
        "        return sum([1. if abs(x) >= abs(t_stat) else 0. for x in zero_distr]) / len(zero_distr)\n",
        "\n",
        "    if alternative == 'less':\n",
        "        return sum([1. if x <= t_stat else 0. for x in zero_distr]) / len(zero_distr)\n",
        "\n",
        "    if alternative == 'greater':\n",
        "        return sum([1. if x >= t_stat else 0. for x in zero_distr]) / len(zero_distr)"
      ]
    },
    {
      "cell_type": "code",
      "execution_count": null,
      "metadata": {
        "id": "r7MU1ybraX-O",
        "outputId": "a0c5adcf-4476-4b23-a3af-ab61f57db3f9"
      },
      "outputs": [
        {
          "name": "stdout",
          "output_type": "stream",
          "text": [
            "p-value: 0.000200\n"
          ]
        }
      ],
      "source": [
        "print \"p-value: %f\" % permutation_test(repayment.LIMIT_BAL.values, loan.LIMIT_BAL.values, max_permutations = 5000)"
      ]
    },
    {
      "cell_type": "markdown",
      "metadata": {
        "id": "QAzIXV2VaX-P"
      },
      "source": [
        "Вывод: p-value довольно мало, гипотеза о равенстве распределений отвергается."
      ]
    },
    {
      "cell_type": "markdown",
      "metadata": {
        "id": "1AtuJWFaaX-P"
      },
      "source": [
        "Общий для пункта вывод: признак LIMIT_BAL значим."
      ]
    },
    {
      "cell_type": "markdown",
      "metadata": {
        "id": "S7O9IztOaX-P"
      },
      "source": [
        "## Пол (SEX)"
      ]
    },
    {
      "cell_type": "markdown",
      "metadata": {
        "id": "_7A-OcNiaX-P"
      },
      "source": [
        "Проверим гипотезу о том, что гендерный состав группы людей вернувших и не вернувших кредит отличается."
      ]
    },
    {
      "cell_type": "markdown",
      "metadata": {
        "id": "ixvJiczjaX-P"
      },
      "source": [
        "В начале посмотрим, как распределены кредиты между мужчинами и женщинами. А также посмотрим, как обстоят дела с возвратом кредитов среди них."
      ]
    },
    {
      "cell_type": "code",
      "execution_count": null,
      "metadata": {
        "id": "XLc1K9_DaX-P"
      },
      "outputs": [],
      "source": [
        "dataFromMens = data[data['SEX'] == 1]\n",
        "dataFromWomans = data[data['SEX'] == 2]\n",
        "\n",
        "quntityRepaymentsFromMens = len(dataFromMens[dataFromMens['default'] == 0])\n",
        "quntityLoansFromMens = len(dataFromMens[dataFromMens['default'] == 1])\n",
        "quntityRepaymentsFromWomens = len(dataFromWomans[dataFromWomans['default'] == 0])\n",
        "quntityLoansFromWomens = len(dataFromWomans[dataFromWomans['default'] == 1])\n",
        "\n",
        "N = 2\n",
        "repaymentsFromMensWomans = (quntityRepaymentsFromMens, quntityRepaymentsFromWomens)\n",
        "loansFromMensWomans = (quntityLoansFromMens, quntityLoansFromWomens)\n",
        "\n",
        "ind = np.arange(N)\n",
        "width = 0.35"
      ]
    },
    {
      "cell_type": "code",
      "execution_count": null,
      "metadata": {
        "id": "uyyw2vXGaX-P",
        "outputId": "7be0d55c-69c1-4786-bd71-eb756ef26051"
      },
      "outputs": [
        {
          "data": {
            "image/png": "[encoded data removed]",
            "text/plain": [
              "<matplotlib.figure.Figure at 0xb8d5e80>"
            ]
          },
          "metadata": {},
          "output_type": "display_data"
        }
      ],
      "source": [
        "plt.figure(figsize(16,4))\n",
        "\n",
        "sns.set_style(\"white\")\n",
        "\n",
        "sns.barplot(x = ind, y = repaymentsFromMensWomans, color = \"lightcoral\")\n",
        "sns.barplot(x = ind, y = loansFromMensWomans, color = \"lightskyblue\", bottom=repaymentsFromMensWomans)\n",
        "\n",
        "bar1 = plt.Rectangle((0,0),1,1,fc=\"lightskyblue\", edgecolor = 'none')\n",
        "bar2 = plt.Rectangle((0,0),1,1,fc='lightcoral',  edgecolor = 'none')\n",
        "l = plt.legend([bar1, bar2], [u'Кредиты, в которых есть просрочки по возврату', u'Кредиты, в которых нет просрочек по возврату'], loc=1, ncol = 2, prop={'size':10})\n",
        "plt.title(u'Кредиты, взависимости от пола')\n",
        "plt.xticks(ind, (u'Мужчины', u'Женщины'))\n",
        "plt.ylabel(u'Всего выдано кредитов, шт.')\n",
        "plt.grid(True)"
      ]
    },
    {
      "cell_type": "markdown",
      "metadata": {
        "id": "_IllVg5RaX-Q"
      },
      "source": [
        "Проверка гипотезы сводится к проверке следующих утверждений:\n",
        "\n",
        "$H_0\\colon p_1 = p_2$       - доли одинаковы\n",
        "\n",
        "$H_1\\colon p_1 \\neq\\ p_2$     - доли разные  \n",
        "\n",
        "Для этого воспользуемся Z-критерием для разности долей в независимых выборках."
      ]
    },
    {
      "cell_type": "code",
      "execution_count": null,
      "metadata": {
        "collapsed": true,
        "id": "3Hp6QsI8aX-Q"
      },
      "outputs": [],
      "source": [
        "def proportions_diff_confint_ind(sample1, sample2, alpha = 0.05):\n",
        "    z = scipy.stats.norm.ppf(1 - alpha / 2.)\n",
        "\n",
        "    p1 = float(sum(sample1)) / len(sample1)\n",
        "    p2 = float(sum(sample2)) / len(sample2)\n",
        "\n",
        "    left_boundary = (p1 - p2) - z * np.sqrt(p1 * (1 - p1)/ len(sample1) + p2 * (1 - p2)/ len(sample2))\n",
        "    right_boundary = (p1 - p2) + z * np.sqrt(p1 * (1 - p1)/ len(sample1) + p2 * (1 - p2)/ len(sample2))\n",
        "\n",
        "    return (left_boundary, right_boundary)\n",
        "\n",
        "def proportions_diff_z_stat_ind(sample1, sample2):\n",
        "    n1 = len(sample1)\n",
        "    n2 = len(sample2)\n",
        "\n",
        "    p1 = float(sum(sample1)) / n1\n",
        "    p2 = float(sum(sample2)) / n2\n",
        "    P = float(p1*n1 + p2*n2) / (n1 + n2)\n",
        "\n",
        "    return (p1 - p2) / np.sqrt(P * (1 - P) * (1. / n1 + 1. / n2))\n",
        "\n",
        "def proportions_diff_z_test(z_stat, alternative = 'two-sided'):\n",
        "    if alternative not in ('two-sided', 'less', 'greater'):\n",
        "        raise ValueError(\"alternative not recognized\\n\"\n",
        "                         \"should be 'two-sided', 'less' or 'greater'\")\n",
        "\n",
        "    if alternative == 'two-sided':\n",
        "        return 2 * (1 - scipy.stats.norm.cdf(np.abs(z_stat)))\n",
        "\n",
        "    if alternative == 'less':\n",
        "        return scipy.stats.norm.cdf(z_stat)\n",
        "\n",
        "    if alternative == 'greater':\n",
        "        return 1 - scipy.stats.norm.cdf(z_stat)"
      ]
    },
    {
      "cell_type": "code",
      "execution_count": null,
      "metadata": {
        "collapsed": true,
        "id": "jz43LYdVaX-Q"
      },
      "outputs": [],
      "source": [
        "mensList = data[data.SEX == 1].default.tolist()\n",
        "womansList = data[data.SEX == 2].default.tolist()"
      ]
    },
    {
      "cell_type": "code",
      "execution_count": null,
      "metadata": {
        "id": "L3FVcbp_aX-Q",
        "outputId": "9db072ce-906f-423c-9432-6402dc6bf67f"
      },
      "outputs": [
        {
          "name": "stdout",
          "output_type": "stream",
          "text": [
            "95% доверительный интервал разницы долей (кредит без просрочек/кредит с просрочками) между мужчинами и женщинами: [0.024207, 0.043612]\n",
            "p-value:  4.47286652161e-12\n"
          ]
        }
      ],
      "source": [
        "print \"95%% доверительный интервал разницы долей (кредит без просрочек/кредит с просрочками) между мужчинами и женщинами: [%f, %f]\" %proportions_diff_confint_ind(mensList, womansList)\n",
        "print \"p-value: \", proportions_diff_z_test(proportions_diff_z_stat_ind(mensList, womansList))"
      ]
    },
    {
      "cell_type": "markdown",
      "metadata": {
        "id": "TNw6rf1paX-Q"
      },
      "source": [
        "Вывод: доли (кредит без просрочек/кредит с просрочками) между мужчинами и женщинами статистически различаются (p-value < 0.05). В тоже время эта разница с практической т.з. является мизерной (от 2,4% до 4,3%). Поэтому признак SEX при построение модели можно считать незначимым."
      ]
    },
    {
      "cell_type": "markdown",
      "metadata": {
        "id": "7yguvqJxaX-Q"
      },
      "source": [
        "## Образование (EDUCATION)"
      ]
    },
    {
      "cell_type": "markdown",
      "metadata": {
        "id": "QRZZJxPNaX-Q"
      },
      "source": [
        "Проверим гипотезу о том, что образование не влияет на то, вернет ли человек долг."
      ]
    },
    {
      "cell_type": "markdown",
      "metadata": {
        "id": "2_n95joVaX-R"
      },
      "source": [
        "Посмотрим, как зависит наличие просрочек от типа образования:"
      ]
    },
    {
      "cell_type": "code",
      "execution_count": null,
      "metadata": {
        "id": "YDemVxQWaX-R",
        "outputId": "893148b2-25c5-49ed-8cfa-257de3fca38a"
      },
      "outputs": [
        {
          "data": {
            "text/plain": [
              "<matplotlib.text.Text at 0x2a55dba8>"
            ]
          },
          "execution_count": 82,
          "metadata": {},
          "output_type": "execute_result"
        },
        {
          "data": {
            "image/png": "[encoded data removed]",
            "text/plain": [
              "<matplotlib.figure.Figure at 0x3e6cd630>"
            ]
          },
          "metadata": {},
          "output_type": "display_data"
        }
      ],
      "source": [
        "sns.factorplot(x='EDUCATION', y='default',  data=data, kind=\"bar\", palette=\"muted\", size = 6)\n",
        "plt.ylabel(u'Доля кредитов с просрочками')\n",
        "plt.xlabel(u'Тип образования')\n",
        "plt.title(u'Кредиты с просрочками, взависимости от образования')"
      ]
    },
    {
      "cell_type": "markdown",
      "metadata": {
        "id": "XBov5gSxaX-W"
      },
      "source": [
        "У докторов наук (EDUCATION=0) вообще нет просрочек по кредитам. Также небольшой процент невозврата у окончивших лишь начальную школу (EDUCATION=4) и указавших свое образование как \"другое\" (EDUCATION=5). Значительный высокий процент невозврата у окончивших школу (EDUCATION=3), получивших высшее образование бакалавров (EDUCATION=2) и тех, кто не указал свое образование (EDUCATION=6). Поэтому необходимо считать признак EDUCATION как важным при построение модели."
      ]
    },
    {
      "cell_type": "markdown",
      "metadata": {
        "id": "gaI1i7bSaX-W"
      },
      "source": [
        "Проверим, зависимы ли тип образования и наличие/отсутствие просрочек в оплате кредита. Для этого воспользуемся критерием хи-квадрат. Нулевая гипотеза $H_0$: подвыборки образования заемщиков вернувших и не вернувших кредит -- независимы, альтернативная $H_a$: нулевая гипотеза неверна.    \n",
        "Предварительно составим таблицу сопряженности для образования и возврата / не возврата кредита:"
      ]
    },
    {
      "cell_type": "code",
      "execution_count": null,
      "metadata": {
        "id": "CsF1MoBJaX-W",
        "outputId": "9df92349-118f-4534-dc52-5d86eba0eaaa"
      },
      "outputs": [
        {
          "data": {
            "text/html": [
              "<div>\n",
              "<table border=\"1\" class=\"dataframe\">\n",
              "  <thead>\n",
              "    <tr style=\"text-align: right;\">\n",
              "      <th></th>\n",
              "      <th>Без просрочек</th>\n",
              "      <th>С просрочками</th>\n",
              "    </tr>\n",
              "  </thead>\n",
              "  <tbody>\n",
              "    <tr>\n",
              "      <th>0</th>\n",
              "      <td>14</td>\n",
              "      <td>0.0</td>\n",
              "    </tr>\n",
              "    <tr>\n",
              "      <th>1</th>\n",
              "      <td>8549</td>\n",
              "      <td>2036.0</td>\n",
              "    </tr>\n",
              "    <tr>\n",
              "      <th>2</th>\n",
              "      <td>10700</td>\n",
              "      <td>3330.0</td>\n",
              "    </tr>\n",
              "    <tr>\n",
              "      <th>3</th>\n",
              "      <td>3680</td>\n",
              "      <td>1237.0</td>\n",
              "    </tr>\n",
              "    <tr>\n",
              "      <th>4</th>\n",
              "      <td>116</td>\n",
              "      <td>7.0</td>\n",
              "    </tr>\n",
              "    <tr>\n",
              "      <th>5</th>\n",
              "      <td>262</td>\n",
              "      <td>18.0</td>\n",
              "    </tr>\n",
              "    <tr>\n",
              "      <th>6</th>\n",
              "      <td>43</td>\n",
              "      <td>8.0</td>\n",
              "    </tr>\n",
              "  </tbody>\n",
              "</table>\n",
              "</div>"
            ],
            "text/plain": [
              "   Без просрочек  С просрочками\n",
              "0             14            0.0\n",
              "1           8549         2036.0\n",
              "2          10700         3330.0\n",
              "3           3680         1237.0\n",
              "4            116            7.0\n",
              "5            262           18.0\n",
              "6             43            8.0"
            ]
          },
          "execution_count": 69,
          "metadata": {},
          "output_type": "execute_result"
        }
      ],
      "source": [
        "tableEducationVSDefault = pd.DataFrame({u'Без просрочек': data[data['default'] == 0].EDUCATION.value_counts(), u'С просрочками': data[data['default'] == 1].EDUCATION.value_counts()})\n",
        "tableEducationVSDefault.iloc[0,1] = 0\n",
        "tableEducationVSDefault"
      ]
    },
    {
      "cell_type": "code",
      "execution_count": null,
      "metadata": {
        "id": "D5cMurl6aX-X",
        "outputId": "c2c7244e-af6c-466c-dd6e-bc506f8b2d0c"
      },
      "outputs": [
        {
          "name": "stdout",
          "output_type": "stream",
          "text": [
            "p-value:  1.23326262454e-32\n",
            "v_cramer:  0.0737600971325\n"
          ]
        }
      ],
      "source": [
        "def v_cramer(chi, n, shape):\n",
        "    return np.sqrt(chi/n/(min(shape[0], shape[1])-1))\n",
        "\n",
        "n = len(data)\n",
        "print \"p-value: \", stats.chi2_contingency(tableEducationVSDefault, correction=False)[1]\n",
        "print 'v_cramer: ', v_cramer(stats.chi2_contingency(tableEducationVSDefault, correction=False)[0], n, tableEducationVSDefault.shape)"
      ]
    },
    {
      "cell_type": "markdown",
      "metadata": {
        "id": "YGzR7f2raX-X"
      },
      "source": [
        "Выводы: гипотеза о независимости образования и наличия/отсутствия просрочек в оплате кредита отвергается. Поэтому признак EDUCATION является важным при рассмотрении заявки на кредит."
      ]
    },
    {
      "cell_type": "markdown",
      "metadata": {
        "id": "pQPIWbBiaX-X"
      },
      "source": [
        "## Семейное положение (MARRIAGE)"
      ]
    },
    {
      "cell_type": "markdown",
      "metadata": {
        "id": "rL90a9iCaX-X"
      },
      "source": [
        "Проверим, как связан семейный статус с индикатором дефолта. Для этого воспользуемся подходом, аналогичным тому, что применили для признака EDUCATION."
      ]
    },
    {
      "cell_type": "code",
      "execution_count": null,
      "metadata": {
        "id": "xJzfZAZDaX-X",
        "outputId": "4b8ae479-befa-4046-c910-9e827c7c0cfa"
      },
      "outputs": [
        {
          "data": {
            "text/plain": [
              "<matplotlib.text.Text at 0x74f222e8>"
            ]
          },
          "execution_count": 83,
          "metadata": {},
          "output_type": "execute_result"
        },
        {
          "data": {
            "image/png": "[encoded data removed]",
            "text/plain": [
              "<matplotlib.figure.Figure at 0x36deada0>"
            ]
          },
          "metadata": {},
          "output_type": "display_data"
        }
      ],
      "source": [
        "sns.factorplot(x='MARRIAGE', y='default',  data=data, kind=\"bar\", palette=\"muted\", size = 6)\n",
        "plt.ylabel(u'Доля кредитов с просрочками')\n",
        "plt.xlabel(u'Семейный статус')\n",
        "plt.title(u'Кредиты с просрочками, взависимости от семейного статуса')"
      ]
    },
    {
      "cell_type": "markdown",
      "metadata": {
        "id": "26eWTbjWaX-X"
      },
      "source": [
        "Самая малая доля кредитов с просрочками у тех, кто отказался указывать свой семейный статус (MARRIAGE=0). У остальных категорий  примерно одинаковые доли кредитов с просрочками (MARRIAGE=1 - замужем/женат; MARRIAGE=2 - холост; MARRIAGE=3 - нет данных). Поэтому признак MARRIAGE необходимо считать как важный при построении модели."
      ]
    },
    {
      "cell_type": "code",
      "execution_count": null,
      "metadata": {
        "id": "42iD_fdKaX-X",
        "outputId": "8b0f6850-1594-4678-a0ec-8941ae81cbb9"
      },
      "outputs": [
        {
          "data": {
            "text/html": [
              "<div>\n",
              "<table border=\"1\" class=\"dataframe\">\n",
              "  <thead>\n",
              "    <tr style=\"text-align: right;\">\n",
              "      <th></th>\n",
              "      <th>Без просрочек</th>\n",
              "      <th>С просрочками</th>\n",
              "    </tr>\n",
              "  </thead>\n",
              "  <tbody>\n",
              "    <tr>\n",
              "      <th>2</th>\n",
              "      <td>12623</td>\n",
              "      <td>3341</td>\n",
              "    </tr>\n",
              "    <tr>\n",
              "      <th>1</th>\n",
              "      <td>10453</td>\n",
              "      <td>3206</td>\n",
              "    </tr>\n",
              "    <tr>\n",
              "      <th>3</th>\n",
              "      <td>239</td>\n",
              "      <td>84</td>\n",
              "    </tr>\n",
              "    <tr>\n",
              "      <th>0</th>\n",
              "      <td>49</td>\n",
              "      <td>5</td>\n",
              "    </tr>\n",
              "  </tbody>\n",
              "</table>\n",
              "</div>"
            ],
            "text/plain": [
              "   Без просрочек  С просрочками\n",
              "2          12623           3341\n",
              "1          10453           3206\n",
              "3            239             84\n",
              "0             49              5"
            ]
          },
          "execution_count": 81,
          "metadata": {},
          "output_type": "execute_result"
        }
      ],
      "source": [
        "tableMarriageVSDefault = pd.DataFrame({u'Без просрочек': data[data['default'] == 0].MARRIAGE.value_counts(), u'С просрочками': data[data['default'] == 1].MARRIAGE.value_counts()})\n",
        "tableMarriageVSDefault"
      ]
    },
    {
      "cell_type": "code",
      "execution_count": null,
      "metadata": {
        "id": "SiZ76yg0aX-X",
        "outputId": "fc46e906-8ad1-4b9e-d276-9d0709d18d15"
      },
      "outputs": [
        {
          "name": "stdout",
          "output_type": "stream",
          "text": [
            "p-value:  8.82586245758e-08\n",
            "v_cramer:  0.0344782036628\n"
          ]
        }
      ],
      "source": [
        "n = len(data)\n",
        "print \"p-value: \", stats.chi2_contingency(tableMarriageVSDefault, correction=False)[1]\n",
        "print 'v_cramer: ', v_cramer(stats.chi2_contingency(tableMarriageVSDefault, correction=False)[0], n, tableMarriageVSDefault.shape)"
      ]
    },
    {
      "cell_type": "markdown",
      "metadata": {
        "id": "OErA5IldaX-X"
      },
      "source": [
        "Выводы: гипотеза о независимости семейного статуса и наличия/отсутствия просрочек в оплате кредита отвергается. Поэтому признак MARRIAGE является важным при рассмотрении заявки на кредит."
      ]
    },
    {
      "cell_type": "markdown",
      "metadata": {
        "id": "7lXeiKe5aX-X"
      },
      "source": [
        "## Возраст (AGE)"
      ]
    },
    {
      "cell_type": "markdown",
      "metadata": {
        "id": "D8Qm9V60aX-Y"
      },
      "source": [
        "Исследуем влияние возраста на возврат/просрочку кредита. В начале посмотрим распределение числа кредитов без и с просрочками, взависимости от возраста."
      ]
    },
    {
      "cell_type": "code",
      "execution_count": null,
      "metadata": {
        "id": "a-jICjWEaX-Y",
        "outputId": "97e15f72-ca16-4b25-c0f0-e4e7f2cb3473"
      },
      "outputs": [
        {
          "data": {
            "image/png": "[encoded data removed]",
            "text/plain": [
              "<matplotlib.figure.Figure at 0x8cdf4e10>"
            ]
          },
          "metadata": {},
          "output_type": "display_data"
        }
      ],
      "source": [
        "pylab.figure(figsize(16, 4))\n",
        "pylab.subplot(1,2,1)\n",
        "repayment.AGE.hist(color='lightskyblue', bins = 60, range = (20, 80))\n",
        "pylab.xlabel(u'Возраст, лет')\n",
        "pylab.ylabel(u'Всего выдано кредитов, шт.')\n",
        "plt.title(u'Кредиты, в которых нет просрочек по возврату')\n",
        "pylab.legend()\n",
        "\n",
        "pylab.subplot(1,2,2)\n",
        "loan.AGE.hist(color='lightcoral', bins = 60, range = (20, 80))\n",
        "pylab.xlabel(u'Возраст, лет')\n",
        "pylab.ylabel(u'Всего выдано кредитов, шт.')\n",
        "plt.title(u'Кредиты, в которых есть просрочки по возврату')\n",
        "pylab.legend()"
      ]
    },
    {
      "cell_type": "markdown",
      "metadata": {
        "id": "nPOH43RFaX-Y"
      },
      "source": [
        "#### Равны ли медианы значений возрастов людей в обоих группах?"
      ]
    },
    {
      "cell_type": "code",
      "execution_count": null,
      "metadata": {
        "collapsed": true,
        "id": "s3LREdyRaX-Y"
      },
      "outputs": [],
      "source": [
        "np.random.seed(123)\n",
        "\n",
        "repayments_median = map(np.median, get_bootstrap_samples(repayment.AGE.values, 1000))\n",
        "loans_median  = map(np.median, get_bootstrap_samples(loan.AGE.values, 1000))"
      ]
    },
    {
      "cell_type": "code",
      "execution_count": null,
      "metadata": {
        "collapsed": true,
        "id": "vv5kuJfvaX-Y"
      },
      "outputs": [],
      "source": [
        "delta_medianForAge = map(lambda x: x[1] - x[0], zip(loans_median, repayments_median))"
      ]
    },
    {
      "cell_type": "code",
      "execution_count": null,
      "metadata": {
        "id": "Z_1bJ-2JaX-Y",
        "outputId": "2f8d5b60-b510-4e2e-cab2-8e4efea62e3e"
      },
      "outputs": [
        {
          "name": "stdout",
          "output_type": "stream",
          "text": [
            "95% доверительный интервал для медианы кредитов, в которых нет просрочек: [ 34.  34.]\n",
            "95% доверительный интервал для медианы кредитов, в которых есть просрочки по возврату: [ 34.  35.]\n",
            "95% доверительный интервал для разности медиан: [-1.  0.]\n"
          ]
        }
      ],
      "source": [
        "print \"95% доверительный интервал для медианы кредитов, в которых нет просрочек:\",  stat_intervals(repayments_median, 0.05)\n",
        "print \"95% доверительный интервал для медианы кредитов, в которых есть просрочки по возврату:\",  stat_intervals(loans_median, 0.05)\n",
        "print \"95% доверительный интервал для разности медиан:\",  stat_intervals(delta_medianForAge, 0.05)"
      ]
    },
    {
      "cell_type": "markdown",
      "metadata": {
        "id": "61XJ3AW7aX-Y"
      },
      "source": [
        "Вывод: 0 входит в доверительный интервал, поэтому однозначно мы не можем сказать, что есть разница в медианых значений возраста в кредитах у которых нет просрочек и кредитах, где они есть."
      ]
    },
    {
      "cell_type": "markdown",
      "metadata": {
        "id": "btoX9dRcaX-Y"
      },
      "source": [
        "#### Равны ли распределения в обоих группах?"
      ]
    },
    {
      "cell_type": "markdown",
      "metadata": {
        "id": "VD28in2YaX-Y"
      },
      "source": [
        "Для проверки воспользуемся перестановочным критерием для независимых выборок."
      ]
    },
    {
      "cell_type": "markdown",
      "metadata": {
        "id": "tn-t9tvvaX-Y"
      },
      "source": [
        "$H_0\\colon F_{X_1}(x) = F_{X_2}(x)$\n",
        "\n",
        "$H_1\\colon F_{X_1}(x) = F_{X_2}(x + \\Delta), \\Delta\\neq 0$"
      ]
    },
    {
      "cell_type": "code",
      "execution_count": null,
      "metadata": {
        "id": "bCLTKRo3aX-Y",
        "outputId": "e1d6551d-60d8-47e2-b6d0-c5e5f9fa3e97"
      },
      "outputs": [
        {
          "name": "stdout",
          "output_type": "stream",
          "text": [
            "p-value: 0.016400\n"
          ]
        }
      ],
      "source": [
        "print \"p-value: %f\" % permutation_test(repayment.AGE.values, loan.AGE.values, max_permutations = 5000)"
      ]
    },
    {
      "cell_type": "markdown",
      "metadata": {
        "id": "CPh9JzZvaX-Y"
      },
      "source": [
        "Вывод: гипотеза о равенстве распредений отвергается."
      ]
    },
    {
      "cell_type": "markdown",
      "metadata": {
        "id": "77mZaZH9aX-Y"
      },
      "source": [
        "Общий вывод по пункту: Ввиду того, что доверительный интервал содержит ноль и в тоже время p-value < 0,05 мы не можем однозначно определить зависимость от возраста. Для более точных оценок необходимо больше данных."
      ]
    }
  ],
  "metadata": {
    "kernelspec": {
      "display_name": "Python [Root]",
      "language": "python",
      "name": "Python [Root]"
    },
    "language_info": {
      "codemirror_mode": {
        "name": "ipython",
        "version": 2
      },
      "file_extension": ".py",
      "mimetype": "text/x-python",
      "name": "python",
      "nbconvert_exporter": "python",
      "pygments_lexer": "ipython2",
      "version": "2.7.12"
    },
    "colab": {
      "provenance": []
    }
  },
  "nbformat": 4,
  "nbformat_minor": 0
}